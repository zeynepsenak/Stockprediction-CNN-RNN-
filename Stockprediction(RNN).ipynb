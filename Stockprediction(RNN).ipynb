{
  "nbformat": 4,
  "nbformat_minor": 0,
  "metadata": {
    "colab": {
      "name": "Stockprediction(RNN).ipynb",
      "provenance": [],
      "collapsed_sections": [],
      "authorship_tag": "ABX9TyMYcwSwh2NoMMx9BWvqpAsn",
      "include_colab_link": true
    },
    "kernelspec": {
      "name": "python3",
      "display_name": "Python 3"
    }
  },
  "cells": [
    {
      "cell_type": "markdown",
      "metadata": {
        "id": "view-in-github",
        "colab_type": "text"
      },
      "source": [
        "<a href=\"https://colab.research.google.com/github/zeynepsenak/Stockprediction-CNN-RNN-/blob/master/Stockprediction(RNN).ipynb\" target=\"_parent\"><img src=\"https://colab.research.google.com/assets/colab-badge.svg\" alt=\"Open In Colab\"/></a>"
      ]
    },
    {
      "cell_type": "code",
      "metadata": {
        "id": "JGvoaERt7nJ6",
        "colab_type": "code",
        "colab": {
          "base_uri": "https://localhost:8080/",
          "height": 87
        },
        "outputId": "9a1c0809-c9a1-478b-9de4-d1cc6e23a286"
      },
      "source": [
        "#RNN - Stock Prediction \n",
        "import math\n",
        "import pandas_datareader as web\n",
        "import numpy as np\n",
        "import pandas as pd\n",
        "from sklearn.preprocessing import MinMaxScaler\n",
        "from keras.models import Sequential\n",
        "from keras.layers import Dense, LSTM\n",
        "import matplotlib.pyplot as plt\n",
        "plt.style.use('fivethirtyeight')"
      ],
      "execution_count": null,
      "outputs": [
        {
          "output_type": "stream",
          "text": [
            "/usr/local/lib/python3.6/dist-packages/pandas_datareader/compat/__init__.py:7: FutureWarning: pandas.util.testing is deprecated. Use the functions in the public API at pandas.testing instead.\n",
            "  from pandas.util.testing import assert_frame_equal\n",
            "Using TensorFlow backend.\n"
          ],
          "name": "stderr"
        }
      ]
    },
    {
      "cell_type": "code",
      "metadata": {
        "id": "rBu6RyuJ847A",
        "colab_type": "code",
        "colab": {
          "base_uri": "https://localhost:8080/",
          "height": 431
        },
        "outputId": "2181ce4e-2443-4032-df74-5976557c0c0e"
      },
      "source": [
        "#unser data : df\n",
        "#APPLE stock \n",
        "df = web.DataReader('AAPL', data_source='yahoo', start='2004-01-01', end='2020-01-01') \n",
        "#GOOGLE stock\n",
        "#df2 = web.DataReader('GOOGL', data_source='yahoo', start='2004-08-01', end='2020-01-01') \n",
        "#df = pd.concat([df1,df2])\n",
        "\n",
        "df #unser data"
      ],
      "execution_count": null,
      "outputs": [
        {
          "output_type": "execute_result",
          "data": {
            "text/html": [
              "<div>\n",
              "<style scoped>\n",
              "    .dataframe tbody tr th:only-of-type {\n",
              "        vertical-align: middle;\n",
              "    }\n",
              "\n",
              "    .dataframe tbody tr th {\n",
              "        vertical-align: top;\n",
              "    }\n",
              "\n",
              "    .dataframe thead th {\n",
              "        text-align: right;\n",
              "    }\n",
              "</style>\n",
              "<table border=\"1\" class=\"dataframe\">\n",
              "  <thead>\n",
              "    <tr style=\"text-align: right;\">\n",
              "      <th></th>\n",
              "      <th>High</th>\n",
              "      <th>Low</th>\n",
              "      <th>Open</th>\n",
              "      <th>Close</th>\n",
              "      <th>Volume</th>\n",
              "      <th>Adj Close</th>\n",
              "    </tr>\n",
              "    <tr>\n",
              "      <th>Date</th>\n",
              "      <th></th>\n",
              "      <th></th>\n",
              "      <th></th>\n",
              "      <th></th>\n",
              "      <th></th>\n",
              "      <th></th>\n",
              "    </tr>\n",
              "  </thead>\n",
              "  <tbody>\n",
              "    <tr>\n",
              "      <th>2004-01-02</th>\n",
              "      <td>1.553571</td>\n",
              "      <td>1.512857</td>\n",
              "      <td>1.539286</td>\n",
              "      <td>1.520000</td>\n",
              "      <td>36160600.0</td>\n",
              "      <td>1.315860</td>\n",
              "    </tr>\n",
              "    <tr>\n",
              "      <th>2004-01-05</th>\n",
              "      <td>1.599286</td>\n",
              "      <td>1.530000</td>\n",
              "      <td>1.530000</td>\n",
              "      <td>1.583571</td>\n",
              "      <td>98754600.0</td>\n",
              "      <td>1.370894</td>\n",
              "    </tr>\n",
              "    <tr>\n",
              "      <th>2004-01-06</th>\n",
              "      <td>1.601429</td>\n",
              "      <td>1.550714</td>\n",
              "      <td>1.589286</td>\n",
              "      <td>1.577857</td>\n",
              "      <td>127337000.0</td>\n",
              "      <td>1.365947</td>\n",
              "    </tr>\n",
              "    <tr>\n",
              "      <th>2004-01-07</th>\n",
              "      <td>1.630714</td>\n",
              "      <td>1.566429</td>\n",
              "      <td>1.578571</td>\n",
              "      <td>1.613571</td>\n",
              "      <td>146718600.0</td>\n",
              "      <td>1.396865</td>\n",
              "    </tr>\n",
              "    <tr>\n",
              "      <th>2004-01-08</th>\n",
              "      <td>1.695000</td>\n",
              "      <td>1.617857</td>\n",
              "      <td>1.631429</td>\n",
              "      <td>1.668571</td>\n",
              "      <td>115075800.0</td>\n",
              "      <td>1.444478</td>\n",
              "    </tr>\n",
              "    <tr>\n",
              "      <th>...</th>\n",
              "      <td>...</td>\n",
              "      <td>...</td>\n",
              "      <td>...</td>\n",
              "      <td>...</td>\n",
              "      <td>...</td>\n",
              "      <td>...</td>\n",
              "    </tr>\n",
              "    <tr>\n",
              "      <th>2019-12-24</th>\n",
              "      <td>284.890015</td>\n",
              "      <td>282.920013</td>\n",
              "      <td>284.690002</td>\n",
              "      <td>284.269989</td>\n",
              "      <td>12119700.0</td>\n",
              "      <td>282.831299</td>\n",
              "    </tr>\n",
              "    <tr>\n",
              "      <th>2019-12-26</th>\n",
              "      <td>289.980011</td>\n",
              "      <td>284.700012</td>\n",
              "      <td>284.820007</td>\n",
              "      <td>289.910004</td>\n",
              "      <td>23280300.0</td>\n",
              "      <td>288.442780</td>\n",
              "    </tr>\n",
              "    <tr>\n",
              "      <th>2019-12-27</th>\n",
              "      <td>293.970001</td>\n",
              "      <td>288.119995</td>\n",
              "      <td>291.119995</td>\n",
              "      <td>289.799988</td>\n",
              "      <td>36566500.0</td>\n",
              "      <td>288.333313</td>\n",
              "    </tr>\n",
              "    <tr>\n",
              "      <th>2019-12-30</th>\n",
              "      <td>292.690002</td>\n",
              "      <td>285.220001</td>\n",
              "      <td>289.459991</td>\n",
              "      <td>291.519989</td>\n",
              "      <td>36028600.0</td>\n",
              "      <td>290.044617</td>\n",
              "    </tr>\n",
              "    <tr>\n",
              "      <th>2019-12-31</th>\n",
              "      <td>293.679993</td>\n",
              "      <td>289.519989</td>\n",
              "      <td>289.929993</td>\n",
              "      <td>293.649994</td>\n",
              "      <td>25201400.0</td>\n",
              "      <td>292.163818</td>\n",
              "    </tr>\n",
              "  </tbody>\n",
              "</table>\n",
              "<p>4027 rows × 6 columns</p>\n",
              "</div>"
            ],
            "text/plain": [
              "                  High         Low  ...       Volume   Adj Close\n",
              "Date                                ...                         \n",
              "2004-01-02    1.553571    1.512857  ...   36160600.0    1.315860\n",
              "2004-01-05    1.599286    1.530000  ...   98754600.0    1.370894\n",
              "2004-01-06    1.601429    1.550714  ...  127337000.0    1.365947\n",
              "2004-01-07    1.630714    1.566429  ...  146718600.0    1.396865\n",
              "2004-01-08    1.695000    1.617857  ...  115075800.0    1.444478\n",
              "...                ...         ...  ...          ...         ...\n",
              "2019-12-24  284.890015  282.920013  ...   12119700.0  282.831299\n",
              "2019-12-26  289.980011  284.700012  ...   23280300.0  288.442780\n",
              "2019-12-27  293.970001  288.119995  ...   36566500.0  288.333313\n",
              "2019-12-30  292.690002  285.220001  ...   36028600.0  290.044617\n",
              "2019-12-31  293.679993  289.519989  ...   25201400.0  292.163818\n",
              "\n",
              "[4027 rows x 6 columns]"
            ]
          },
          "metadata": {
            "tags": []
          },
          "execution_count": 3
        }
      ]
    },
    {
      "cell_type": "code",
      "metadata": {
        "id": "hcUOuHDs9c2Q",
        "colab_type": "code",
        "colab": {
          "base_uri": "https://localhost:8080/",
          "height": 34
        },
        "outputId": "5f526a36-a64b-4b94-8221-252b33abadb5"
      },
      "source": [
        "df.shape #unser data shape"
      ],
      "execution_count": null,
      "outputs": [
        {
          "output_type": "execute_result",
          "data": {
            "text/plain": [
              "(4027, 6)"
            ]
          },
          "metadata": {
            "tags": []
          },
          "execution_count": 4
        }
      ]
    },
    {
      "cell_type": "code",
      "metadata": {
        "id": "ImiEW2gS-J_V",
        "colab_type": "code",
        "colab": {
          "base_uri": "https://localhost:8080/",
          "height": 558
        },
        "outputId": "73db6446-25a0-4baa-ff30-91c33c987820"
      },
      "source": [
        "#Visualizieren die Schlusspreisverlauff\n",
        "plt.figure(figsize=(16,8))\n",
        "plt.title('_Schlusspreisverlauf_')\n",
        "plt.plot(df['Close'])\n",
        "plt.xlabel('Datum',fontsize=18)\n",
        "plt.ylabel('Schlusspreis USD ($)',fontsize=18)\n",
        "plt.show()\n"
      ],
      "execution_count": null,
      "outputs": [
        {
          "output_type": "display_data",
          "data": {
            "image/png": "[encoded data removed]",
            "text/plain": [
              "<Figure size 1152x576 with 1 Axes>"
            ]
          },
          "metadata": {
            "tags": []
          }
        }
      ]
    },
    {
      "cell_type": "code",
      "metadata": {
        "id": "MvHdDpBW_e4o",
        "colab_type": "code",
        "colab": {
          "base_uri": "https://localhost:8080/",
          "height": 34
        },
        "outputId": "56ce0bf6-4d1b-4ea7-847e-68b02af92da0"
      },
      "source": [
        "data_cl = df.filter(['Close']) #Schluss (Close) Column von Daten : data_cl\n",
        "clset = data_cl.values #numpy array - data_cl : cl_set\n",
        "training_data_len = math.ceil( len(clset) *.8) #Train Reiheanzahl\n",
        "\n",
        "training_data_len"
      ],
      "execution_count": null,
      "outputs": [
        {
          "output_type": "execute_result",
          "data": {
            "text/plain": [
              "3222"
            ]
          },
          "metadata": {
            "tags": []
          },
          "execution_count": 6
        }
      ]
    },
    {
      "cell_type": "code",
      "metadata": {
        "id": "plA_vGjxBhb_",
        "colab_type": "code",
        "colab": {
          "base_uri": "https://localhost:8080/",
          "height": 134
        },
        "outputId": "3a796483-8cf4-46b8-887e-fae7da65f51b"
      },
      "source": [
        "#Skalierung zwischen 0-1 \n",
        "sc = MinMaxScaler(feature_range=(0, 1)) \n",
        "sc_data = sc.fit_transform(clset)\n",
        "\n",
        "sc_data"
      ],
      "execution_count": null,
      "outputs": [
        {
          "output_type": "execute_result",
          "data": {
            "text/plain": [
              "array([[0.00000000e+00],\n",
              "       [2.17613578e-04],\n",
              "       [1.98052774e-04],\n",
              "       ...,\n",
              "       [9.86820915e-01],\n",
              "       [9.92708709e-01],\n",
              "       [1.00000000e+00]])"
            ]
          },
          "metadata": {
            "tags": []
          },
          "execution_count": 7
        }
      ]
    },
    {
      "cell_type": "code",
      "metadata": {
        "id": "kDdyVKZOFNgI",
        "colab_type": "code",
        "colab": {
          "base_uri": "https://localhost:8080/",
          "height": 235
        },
        "outputId": "9c3ec513-2437-480e-c3f0-914d09d49a4d"
      },
      "source": [
        "train_data = sc_data[0:training_data_len  , : ] #scaliertes trainingsset\n",
        "#Data teilen: x_train und y_train \n",
        "x_train=[]\n",
        "y_train=[]\n",
        "\n",
        "#61. günün kapanış fiyatını tahmin etmek için önceki 60 günlük veri seti\n",
        "for i in range(60,len(train_data)):\n",
        "    x_train.append(train_data[i-60:i, 0]) #x_train : column1: 0-59 , column2: 1-60, column3: 2-61, ... \n",
        "    y_train.append(train_data[i, 0]) #y_train : column1: 60, column2: 61, column3: 62, ...\n",
        "    if i<= 60:  #örnek bir küme (0-59, x_train) ve (60, y_train)\n",
        "      print(x_train)\n",
        "      print(y_train)"
      ],
      "execution_count": null,
      "outputs": [
        {
          "output_type": "stream",
          "text": [
            "[array([0.        , 0.00021761, 0.00019805, 0.00032031, 0.00050858,\n",
            "       0.00042056, 0.00059905, 0.00069441, 0.00071397, 0.00038388,\n",
            "       0.00035209, 0.00035454, 0.0003252 , 0.00022006, 0.00031297,\n",
            "       0.000423  , 0.00043767, 0.00030319, 0.00034231, 0.00031297,\n",
            "       0.00025429, 0.00023962, 0.0001247 , 0.00027874, 0.00034965,\n",
            "       0.00033987, 0.00041567, 0.00061616, 0.00059905, 0.00042056,\n",
            "       0.00045968, 0.00048413, 0.00029097, 0.00027385, 0.0002225 ,\n",
            "       0.00026407, 0.0003741 , 0.00043034, 0.00064551, 0.00066996,\n",
            "       0.00061861, 0.00064551, 0.0009487 , 0.00133502, 0.00115408,\n",
            "       0.00142305, 0.00156486, 0.00143527, 0.00153552, 0.00126411,\n",
            "       0.00111007, 0.00120054, 0.0010734 , 0.00111985, 0.00111985,\n",
            "       0.00098048, 0.00103183, 0.00136681, 0.00140837, 0.0016211 ])]\n",
            "[0.0016235433938904783]\n"
          ],
          "name": "stdout"
        }
      ]
    },
    {
      "cell_type": "code",
      "metadata": {
        "id": "SyFr8sSENoAs",
        "colab_type": "code",
        "colab": {}
      },
      "source": [
        "#x_train und y_train - numpy arrays\n",
        "x_train, y_train = np.array(x_train), np.array(y_train)"
      ],
      "execution_count": null,
      "outputs": []
    },
    {
      "cell_type": "code",
      "metadata": {
        "id": "C96vV2NjOCyY",
        "colab_type": "code",
        "colab": {
          "base_uri": "https://localhost:8080/",
          "height": 34
        },
        "outputId": "aa86e01e-9835-45a3-a24c-ec55eae86416"
      },
      "source": [
        "#Daten Formen - zu LTSM Form\n",
        "x_train = np.reshape(x_train, (x_train.shape[0],x_train.shape[1],1))\n",
        "\n",
        "x_train.shape #wie ist es zieht aus?"
      ],
      "execution_count": null,
      "outputs": [
        {
          "output_type": "execute_result",
          "data": {
            "text/plain": [
              "(3162, 60, 1)"
            ]
          },
          "metadata": {
            "tags": []
          },
          "execution_count": 112
        }
      ]
    },
    {
      "cell_type": "code",
      "metadata": {
        "id": "Z5bSnucMOPfd",
        "colab_type": "code",
        "colab": {
          "base_uri": "https://localhost:8080/",
          "height": 286
        },
        "outputId": "9188f312-6bd3-4c1a-86d0-eac3d28fc59b"
      },
      "source": [
        "#LSTM Network Modell bauen\n",
        "model = Sequential()\n",
        "#50 nöronlu ilk katman - inputu x_train\n",
        "model.add(LSTM(units=50, return_sequences=True,input_shape=(x_train.shape[1],1)))\n",
        "#50 nöronlu ikinci katman\n",
        "model.add(LSTM(units=50, return_sequences=False))\n",
        "#2 Dense Katman 1.:25, 2.:1 \n",
        "model.add(Dense(units=25))\n",
        "model.add(Dense(units=1))\n",
        "\n",
        "model.summary()"
      ],
      "execution_count": null,
      "outputs": [
        {
          "output_type": "stream",
          "text": [
            "Model: \"sequential_5\"\n",
            "_________________________________________________________________\n",
            "Layer (type)                 Output Shape              Param #   \n",
            "=================================================================\n",
            "lstm_11 (LSTM)               (None, 60, 50)            10400     \n",
            "_________________________________________________________________\n",
            "lstm_12 (LSTM)               (None, 50)                20200     \n",
            "_________________________________________________________________\n",
            "dense_9 (Dense)              (None, 25)                1275      \n",
            "_________________________________________________________________\n",
            "dense_10 (Dense)             (None, 1)                 26        \n",
            "=================================================================\n",
            "Total params: 31,901\n",
            "Trainable params: 31,901\n",
            "Non-trainable params: 0\n",
            "_________________________________________________________________\n"
          ],
          "name": "stdout"
        }
      ]
    },
    {
      "cell_type": "code",
      "metadata": {
        "id": "yqwM560POb3B",
        "colab_type": "code",
        "colab": {}
      },
      "source": [
        "#Compile => optimizer:adam loss:ortalama kara hatası\n",
        "model.compile(optimizer='adam', loss='mean_squared_error')"
      ],
      "execution_count": null,
      "outputs": []
    },
    {
      "cell_type": "code",
      "metadata": {
        "id": "2SDctef_Og0Z",
        "colab_type": "code",
        "colab": {
          "base_uri": "https://localhost:8080/",
          "height": 336
        },
        "outputId": "962a287d-37ff-4a3c-9eee-c4785b6986b4"
      },
      "source": [
        "#Train das Modell\n",
        "model.fit(x_train, y_train, batch_size=8, epochs=9)"
      ],
      "execution_count": null,
      "outputs": [
        {
          "output_type": "stream",
          "text": [
            "Epoch 1/9\n",
            "3162/3162 [==============================] - 20s 6ms/step - loss: 1.8898e-05\n",
            "Epoch 2/9\n",
            "3162/3162 [==============================] - 20s 6ms/step - loss: 1.9474e-05\n",
            "Epoch 3/9\n",
            "3162/3162 [==============================] - 20s 6ms/step - loss: 1.9167e-05\n",
            "Epoch 4/9\n",
            "3162/3162 [==============================] - 20s 6ms/step - loss: 1.9876e-05\n",
            "Epoch 5/9\n",
            "3162/3162 [==============================] - 21s 7ms/step - loss: 2.0320e-05\n",
            "Epoch 6/9\n",
            "3162/3162 [==============================] - 21s 6ms/step - loss: 2.1956e-05\n",
            "Epoch 7/9\n",
            "3162/3162 [==============================] - 21s 6ms/step - loss: 1.8866e-05\n",
            "Epoch 8/9\n",
            "3162/3162 [==============================] - 20s 6ms/step - loss: 2.0417e-05\n",
            "Epoch 9/9\n",
            "3162/3162 [==============================] - 20s 6ms/step - loss: 2.2141e-05\n"
          ],
          "name": "stdout"
        },
        {
          "output_type": "execute_result",
          "data": {
            "text/plain": [
              "<keras.callbacks.callbacks.History at 0x7f7d9ae64048>"
            ]
          },
          "metadata": {
            "tags": []
          },
          "execution_count": 134
        }
      ]
    },
    {
      "cell_type": "code",
      "metadata": {
        "id": "rV2NMJIUOshE",
        "colab_type": "code",
        "colab": {
          "base_uri": "https://localhost:8080/",
          "height": 34
        },
        "outputId": "a7ecf8cc-4654-498c-ddca-77db680ab17e"
      },
      "source": [
        "#Test Daten\n",
        "test_data = sc_data[training_data_len - 60: , : ]\n",
        "#x_test und y_test Daten\n",
        "x_test = []\n",
        "y_test =  clset[training_data_len : , : ]\n",
        "for i in range(60,len(test_data)):\n",
        "    x_test.append(test_data[i-60:i,0])\n",
        "\n",
        "y_test.shape    "
      ],
      "execution_count": null,
      "outputs": [
        {
          "output_type": "execute_result",
          "data": {
            "text/plain": [
              "(805, 1)"
            ]
          },
          "metadata": {
            "tags": []
          },
          "execution_count": 135
        }
      ]
    },
    {
      "cell_type": "code",
      "metadata": {
        "id": "z1lis9klPDn1",
        "colab_type": "code",
        "colab": {}
      },
      "source": [
        "#x_test zu numpy array \n",
        "x_test = np.array(x_test)"
      ],
      "execution_count": null,
      "outputs": []
    },
    {
      "cell_type": "code",
      "metadata": {
        "id": "DSPKmJClPF-C",
        "colab_type": "code",
        "colab": {
          "base_uri": "https://localhost:8080/",
          "height": 34
        },
        "outputId": "c2c070cc-0438-4821-debb-c1d9d2861417"
      },
      "source": [
        "#Daten Formen - zu LTSM Form\n",
        "x_test = np.reshape(x_test, (x_test.shape[0],x_test.shape[1],1))\n",
        "\n",
        "x_test.shape"
      ],
      "execution_count": null,
      "outputs": [
        {
          "output_type": "execute_result",
          "data": {
            "text/plain": [
              "(805, 60, 1)"
            ]
          },
          "metadata": {
            "tags": []
          },
          "execution_count": 137
        }
      ]
    },
    {
      "cell_type": "code",
      "metadata": {
        "id": "FGkA-QtAPO-3",
        "colab_type": "code",
        "colab": {}
      },
      "source": [
        "#Vorhergesagte Preis Werte Model\n",
        "predictions = model.predict(x_test) \n",
        "predictions = sc.inverse_transform(predictions)#Undo Skalierung"
      ],
      "execution_count": null,
      "outputs": []
    },
    {
      "cell_type": "code",
      "metadata": {
        "id": "6jQVt23nPXvD",
        "colab_type": "code",
        "colab": {
          "base_uri": "https://localhost:8080/",
          "height": 34
        },
        "outputId": "dfbc47e7-d390-4ffe-a298-9723d70f45e7"
      },
      "source": [
        "#RMSE Wert - Perfektion des Modells - (Perfekt:0)\n",
        "rmse=np.sqrt(np.mean(((predictions- y_test)**2)))\n",
        "rmse"
      ],
      "execution_count": null,
      "outputs": [
        {
          "output_type": "execute_result",
          "data": {
            "text/plain": [
              "9.806543922591104"
            ]
          },
          "metadata": {
            "tags": []
          },
          "execution_count": 139
        }
      ]
    },
    {
      "cell_type": "code",
      "metadata": {
        "id": "2_TXrvL3PcOe",
        "colab_type": "code",
        "colab": {
          "base_uri": "https://localhost:8080/",
          "height": 468
        },
        "outputId": "cde8f08c-924b-4cda-9199-461e0c88fb75"
      },
      "source": [
        "#Plot/Create the data for the graph\n",
        "train = data_cl[:training_data_len]\n",
        "valid = data_cl[training_data_len:]\n",
        "valid['Predictions'] = predictions\n",
        "\n",
        "#Graph\n",
        "plt.figure(figsize=(16,8))\n",
        "plt.title('_Aktienprognose_')\n",
        "plt.xlabel('Datum', fontsize=18)\n",
        "plt.ylabel('Schluss Preis USD ($)', fontsize=18)\n",
        "plt.plot(train['Close'])\n",
        "plt.plot(valid[['Close', 'Predictions']])\n",
        "plt.legend(['Train', 'Wert', 'Vorhergesagte Werte'], loc='lower right')\n",
        "plt.show()"
      ],
      "execution_count": null,
      "outputs": [
        {
          "output_type": "stream",
          "text": [
            "/usr/local/lib/python3.6/dist-packages/ipykernel_launcher.py:4: SettingWithCopyWarning: \n",
            "A value is trying to be set on a copy of a slice from a DataFrame.\n",
            "Try using .loc[row_indexer,col_indexer] = value instead\n",
            "\n",
            "See the caveats in the documentation: https://pandas.pydata.org/pandas-docs/stable/user_guide/indexing.html#returning-a-view-versus-a-copy\n",
            "  after removing the cwd from sys.path.\n"
          ],
          "name": "stderr"
        },
        {
          "output_type": "display_data",
          "data": {
            "image/png": "[encoded data removed]",
            "text/plain": [
              "<Figure size 1152x576 with 1 Axes>"
            ]
          },
          "metadata": {
            "tags": []
          }
        }
      ]
    },
    {
      "cell_type": "code",
      "metadata": {
        "id": "51QKd80BP9EE",
        "colab_type": "code",
        "colab": {
          "base_uri": "https://localhost:8080/",
          "height": 431
        },
        "outputId": "23ab8159-550f-4d84-8a21-d502babf83db"
      },
      "source": [
        "#Schluss Werte und vorhergesagte Werte\n",
        "valid"
      ],
      "execution_count": null,
      "outputs": [
        {
          "output_type": "execute_result",
          "data": {
            "text/html": [
              "<div>\n",
              "<style scoped>\n",
              "    .dataframe tbody tr th:only-of-type {\n",
              "        vertical-align: middle;\n",
              "    }\n",
              "\n",
              "    .dataframe tbody tr th {\n",
              "        vertical-align: top;\n",
              "    }\n",
              "\n",
              "    .dataframe thead th {\n",
              "        text-align: right;\n",
              "    }\n",
              "</style>\n",
              "<table border=\"1\" class=\"dataframe\">\n",
              "  <thead>\n",
              "    <tr style=\"text-align: right;\">\n",
              "      <th></th>\n",
              "      <th>Close</th>\n",
              "      <th>Predictions</th>\n",
              "    </tr>\n",
              "    <tr>\n",
              "      <th>Date</th>\n",
              "      <th></th>\n",
              "      <th></th>\n",
              "    </tr>\n",
              "  </thead>\n",
              "  <tbody>\n",
              "    <tr>\n",
              "      <th>2016-10-19</th>\n",
              "      <td>117.120003</td>\n",
              "      <td>119.596947</td>\n",
              "    </tr>\n",
              "    <tr>\n",
              "      <th>2016-10-20</th>\n",
              "      <td>117.059998</td>\n",
              "      <td>119.261513</td>\n",
              "    </tr>\n",
              "    <tr>\n",
              "      <th>2016-10-21</th>\n",
              "      <td>116.599998</td>\n",
              "      <td>119.243362</td>\n",
              "    </tr>\n",
              "    <tr>\n",
              "      <th>2016-10-24</th>\n",
              "      <td>117.650002</td>\n",
              "      <td>118.764221</td>\n",
              "    </tr>\n",
              "    <tr>\n",
              "      <th>2016-10-25</th>\n",
              "      <td>118.250000</td>\n",
              "      <td>119.878502</td>\n",
              "    </tr>\n",
              "    <tr>\n",
              "      <th>...</th>\n",
              "      <td>...</td>\n",
              "      <td>...</td>\n",
              "    </tr>\n",
              "    <tr>\n",
              "      <th>2019-12-24</th>\n",
              "      <td>284.269989</td>\n",
              "      <td>264.113098</td>\n",
              "    </tr>\n",
              "    <tr>\n",
              "      <th>2019-12-26</th>\n",
              "      <td>289.910004</td>\n",
              "      <td>264.310394</td>\n",
              "    </tr>\n",
              "    <tr>\n",
              "      <th>2019-12-27</th>\n",
              "      <td>289.799988</td>\n",
              "      <td>267.734772</td>\n",
              "    </tr>\n",
              "    <tr>\n",
              "      <th>2019-12-30</th>\n",
              "      <td>291.519989</td>\n",
              "      <td>267.852936</td>\n",
              "    </tr>\n",
              "    <tr>\n",
              "      <th>2019-12-31</th>\n",
              "      <td>293.649994</td>\n",
              "      <td>269.168365</td>\n",
              "    </tr>\n",
              "  </tbody>\n",
              "</table>\n",
              "<p>805 rows × 2 columns</p>\n",
              "</div>"
            ],
            "text/plain": [
              "                 Close  Predictions\n",
              "Date                               \n",
              "2016-10-19  117.120003   119.596947\n",
              "2016-10-20  117.059998   119.261513\n",
              "2016-10-21  116.599998   119.243362\n",
              "2016-10-24  117.650002   118.764221\n",
              "2016-10-25  118.250000   119.878502\n",
              "...                ...          ...\n",
              "2019-12-24  284.269989   264.113098\n",
              "2019-12-26  289.910004   264.310394\n",
              "2019-12-27  289.799988   267.734772\n",
              "2019-12-30  291.519989   267.852936\n",
              "2019-12-31  293.649994   269.168365\n",
              "\n",
              "[805 rows x 2 columns]"
            ]
          },
          "metadata": {
            "tags": []
          },
          "execution_count": 70
        }
      ]
    },
    {
      "cell_type": "code",
      "metadata": {
        "id": "tDfasr7AQEoo",
        "colab_type": "code",
        "colab": {
          "base_uri": "https://localhost:8080/",
          "height": 34
        },
        "outputId": "a3a5564c-684f-4911-f5af-9fb7ed3ae7e3"
      },
      "source": [
        "#Get the quote\n",
        "#APPLE\n",
        "apple_quote = web.DataReader('AAPL', data_source='yahoo', start='2012-01-01', end='2019-12-17')\n",
        "#GOOGLE\n",
        "#google_quote = web.DataReader('AAPL', data_source='yahoo', start='2004-08-01', end='2020-01-01')\n",
        "#Create a new dataframe\n",
        "new_df = apple_quote.filter(['Close'])\n",
        "#Letzte 60 Tagen Schlusspreis \n",
        "letzte_60 = new_df[-60:].values\n",
        "#Skalieren 0-1\n",
        "letzte_60_sc = sc.transform(letzte_60)\n",
        "\n",
        "\n",
        "X_test = []\n",
        "X_test.append(letzte_60_sc)\n",
        "#numpy array\n",
        "X_test = np.array(X_test)\n",
        "#Datenformung\n",
        "X_test = np.reshape(X_test, (X_test.shape[0], X_test.shape[1], 1))\n",
        "#vorhergesagte Werte\n",
        "pred_price = model.predict(X_test)\n",
        "#undo Skalierung\n",
        "pred_price = sc.inverse_transform(pred_price)\n",
        "print(pred_price)"
      ],
      "execution_count": null,
      "outputs": [
        {
          "output_type": "stream",
          "text": [
            "[[271.69577]]\n"
          ],
          "name": "stdout"
        }
      ]
    },
    {
      "cell_type": "code",
      "metadata": {
        "id": "t6CYJYSXQRpX",
        "colab_type": "code",
        "colab": {
          "base_uri": "https://localhost:8080/",
          "height": 67
        },
        "outputId": "2955b5ae-6227-4f3a-e14a-b41c14d2b32c"
      },
      "source": [
        "#Get the quote\n",
        "apple_quote2 = web.DataReader('AAPL', data_source='yahoo', start='2019-12-18', end='2019-12-18')\n",
        "print(apple_quote2['Close'])"
      ],
      "execution_count": null,
      "outputs": [
        {
          "output_type": "stream",
          "text": [
            "Date\n",
            "2019-12-18    279.73999\n",
            "Name: Close, dtype: float64\n"
          ],
          "name": "stdout"
        }
      ]
    },
    {
      "cell_type": "code",
      "metadata": {
        "id": "J3-I0xAlQb7I",
        "colab_type": "code",
        "colab": {}
      },
      "source": [
        ""
      ],
      "execution_count": null,
      "outputs": []
    }
  ]
}